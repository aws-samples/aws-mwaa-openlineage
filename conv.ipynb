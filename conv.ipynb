{
 "cells": [
  {
   "cell_type": "code",
   "execution_count": 1,
   "metadata": {},
   "outputs": [],
   "source": [
    "import pandas as pd\n",
    "import os"
   ]
  },
  {
   "cell_type": "code",
   "execution_count": 2,
   "metadata": {},
   "outputs": [],
   "source": [
    "data_dir = './storage/runtime/tickit'"
   ]
  },
  {
   "cell_type": "code",
   "execution_count": 21,
   "metadata": {},
   "outputs": [],
   "source": [
    "table = 'event'\n",
    "conv_df = pd.read_csv(f'{data_dir}/allevents_pipe.txt', sep = '|', header=None, names=['eventid','venueid','catid','dateid','eventname','starttime'])\n",
    "if not os.path.exists(f'{data_dir}/{table}/'):\n",
    "    os.mkdir(f'{data_dir}/{table}/')\n",
    "conv_df.to_parquet(f'{data_dir}/{table}/{table}.parquet')"
   ]
  },
  {
   "cell_type": "code",
   "execution_count": 18,
   "metadata": {},
   "outputs": [],
   "source": [
    "table = 'category'\n",
    "conv_df = pd.read_csv(f'{data_dir}/category_pipe.txt', sep = '|', header=None, names=['catid','catgroup','catname','catdesc'])\n",
    "if not os.path.exists(f'{data_dir}/{table}/'):\n",
    "    os.mkdir(f'{data_dir}/{table}/')\n",
    "conv_df.to_parquet(f'{data_dir}/{table}/{table}.parquet')"
   ]
  },
  {
   "cell_type": "code",
   "execution_count": 20,
   "metadata": {},
   "outputs": [
    {
     "name": "stdout",
     "output_type": "stream",
     "text": [
      "     dateid     caldate day  week month  qtr  year  holiday\n",
      "0      1827  2008-01-01  WE     1   JAN    1  2008     True\n",
      "1      1828  2008-01-02  TH     1   JAN    1  2008    False\n",
      "2      1829  2008-01-03  FR     1   JAN    1  2008    False\n",
      "3      1830  2008-01-04  SA     2   JAN    1  2008    False\n",
      "4      1831  2008-01-05  SU     2   JAN    1  2008    False\n",
      "..      ...         ...  ..   ...   ...  ...   ...      ...\n",
      "360    2187  2008-12-27  SA    53   DEC    4  2008    False\n",
      "361    2188  2008-12-28  SU    53   DEC    4  2008    False\n",
      "362    2189  2008-12-29  MO    53   DEC    4  2008    False\n",
      "363    2190  2008-12-30  TU    53   DEC    4  2008    False\n",
      "364    2191  2008-12-31  WE    53   DEC    4  2008    False\n",
      "\n",
      "[365 rows x 8 columns]\n"
     ]
    }
   ],
   "source": [
    "table = 'date'\n",
    "conv_df = pd.read_csv(f'{data_dir}/date2008_pipe.txt', sep = '|', header=None, names=['dateid','caldate','day','week','month','qtr', 'year','holiday'])\n",
    "if not os.path.exists(f'{data_dir}/{table}/'):\n",
    "    os.mkdir(f'{data_dir}/{table}/')\n",
    "print(conv_df)\n",
    "conv_df.to_parquet(f'{data_dir}/{table}/{table}.parquet')"
   ]
  },
  {
   "cell_type": "code",
   "execution_count": 22,
   "metadata": {},
   "outputs": [
    {
     "name": "stdout",
     "output_type": "stream",
     "text": [
      "     venueid                  venuename      venuecity venuestate venueseats\n",
      "0          1                Toyota Park     Bridgeview         IL          0\n",
      "1          2      Columbus Crew Stadium       Columbus         OH          0\n",
      "2          3                RFK Stadium     Washington         DC          0\n",
      "3          4  CommunityAmerica Ballpark    Kansas City         KS          0\n",
      "4          5           Gillette Stadium     Foxborough         MA      68756\n",
      "..       ...                        ...            ...        ...        ...\n",
      "197      305          Lyric Opera House        Chicago         IL          0\n",
      "198      306          Lyric Opera House      Baltimore         MD          0\n",
      "199      307        San Francisco Opera  San Francisco         CA          0\n",
      "200      308         Metropolitan Opera  New York City         NY          0\n",
      "201      309          Los Angeles Opera    Los Angeles         CA          0\n",
      "\n",
      "[202 rows x 5 columns]\n"
     ]
    }
   ],
   "source": [
    "table = 'venue'\n",
    "conv_df = pd.read_csv(f'{data_dir}/venue_pipe.txt', sep = '|', header=None, names=['venueid','venuename','venuecity','venuestate','venueseats'])\n",
    "if not os.path.exists(f'{data_dir}/{table}/'):\n",
    "    os.mkdir(f'{data_dir}/{table}/')\n",
    "print(conv_df)\n",
    "conv_df.to_parquet(f'{data_dir}/{table}/{table}.parquet')"
   ]
  },
  {
   "cell_type": "code",
   "execution_count": 23,
   "metadata": {},
   "outputs": [
    {
     "name": "stdout",
     "output_type": "stream",
     "text": [
      "       userid  username   firstname  lastname          city state  \\\n",
      "0           1  JSG99FHE      Rafael    Taylor          Kent    WA   \n",
      "1           2  PGL08LJI    Vladimir  Humphrey  Murfreesboro    SK   \n",
      "2           3  IFT66TXU        Lars   Ratliff    High Point    ME   \n",
      "3           4  XDZ38RDD       Barry       Roy         Omaha    AB   \n",
      "4           5  AEB55QTM      Reagan     Hodge   Forest Lake    NS   \n",
      "...       ...       ...         ...       ...           ...   ...   \n",
      "49985   49986  WSZ25RSI       Basil    Sexton     Milwaukee    CO   \n",
      "49986   49987  MMK88YWE      Lucian    Morgan        Pomona    IN   \n",
      "49987   49988  ERA75TVW      Hayden     Lyons       Chelsea    SC   \n",
      "49988   49989  RRS41ZTJ  Evangeline    Franco   Bakersfield    NT   \n",
      "49989   49990  ILI20QYV        Iola     Avery     Frankfort    NU   \n",
      "\n",
      "                                               email           phone  \\\n",
      "0      Etiam.laoreet.libero@sodalesMaurisblandit.edu  (664) 602-4412   \n",
      "1            Suspendisse.tristique@nonnisiAenean.edu  (783) 492-1886   \n",
      "2        amet.faucibus.ut@condimentumegetvolutpat.ca  (624) 767-2465   \n",
      "3                                  sed@lacusUtnec.ca  (355) 452-8168   \n",
      "4                                   Cum@accumsan.com  (476) 519-9131   \n",
      "...                                              ...             ...   \n",
      "49985             sociis.natoque.penatibus@vitae.org  (858) 335-0367   \n",
      "49986                 sodales@blanditviverraDonec.ca  (922) 687-0367   \n",
      "49987                                  in@Donecat.ca  (383) 842-2235   \n",
      "49988                           nibh.enim@egestas.ca  (976) 963-7780   \n",
      "49989                 urna.Ut@egetdictumplacerat.edu  (443) 197-1154   \n",
      "\n",
      "      likesports liketheatre likeconcerts likejazz likeclassical likeopera  \\\n",
      "0           True        True          NaN    False          True       NaN   \n",
      "1            NaN         NaN          NaN     True          True       NaN   \n",
      "2           True       False          NaN    False           NaN     False   \n",
      "3          False        True          NaN    False           NaN       NaN   \n",
      "4            NaN         NaN         True    False           NaN       NaN   \n",
      "...          ...         ...          ...      ...           ...       ...   \n",
      "49985       True         NaN         True      NaN           NaN       NaN   \n",
      "49986        NaN        True          NaN     True         False     False   \n",
      "49987        NaN         NaN          NaN    False         False      True   \n",
      "49988        NaN         NaN          NaN    False         False       NaN   \n",
      "49989        NaN         NaN          NaN      NaN           NaN       NaN   \n",
      "\n",
      "      likerock likevegas likebroadway likemusicals  \n",
      "0          NaN      True        False         True  \n",
      "1          NaN      True        False         True  \n",
      "2         True       NaN          NaN         True  \n",
      "3          NaN       NaN          NaN        False  \n",
      "4         True      True        False         True  \n",
      "...        ...       ...          ...          ...  \n",
      "49985     True       NaN         True         True  \n",
      "49986     True       NaN          NaN          NaN  \n",
      "49987     True     False        False        False  \n",
      "49988    False       NaN        False         True  \n",
      "49989      NaN      True         True         True  \n",
      "\n",
      "[49990 rows x 18 columns]\n"
     ]
    }
   ],
   "source": [
    "table = 'users'\n",
    "conv_df = pd.read_csv(f'{data_dir}/allusers_pipe.txt', sep = '|', header=None, names=['userid','username','firstname','lastname','city','state', 'email','phone','likesports',\n",
    "'liketheatre' ,\n",
    "'likeconcerts' ,\n",
    "'likejazz' ,\n",
    "'likeclassical' ,\n",
    "'likeopera' ,\n",
    "'likerock' ,\n",
    "'likevegas' ,\n",
    "'likebroadway' ,\n",
    "'likemusicals'])\n",
    "if not os.path.exists(f'{data_dir}/{table}/'):\n",
    "    os.mkdir(f'{data_dir}/{table}/')\n",
    "print(conv_df)\n",
    "conv_df.to_parquet(f'{data_dir}/{table}/{table}.parquet')"
   ]
  },
  {
   "cell_type": "code",
   "execution_count": 24,
   "metadata": {},
   "outputs": [
    {
     "name": "stdout",
     "output_type": "stream",
     "text": [
      "        listid  sellerid  eventid  dateid  numtickets  priceperticket  \\\n",
      "0            1     36861     7872    1850          10           182.0   \n",
      "1            2     16002     4806    1890           7           233.0   \n",
      "2            3     21461     4256    2131           2           182.0   \n",
      "3            4      8117     4337    1970           8            38.0   \n",
      "4            5      1616     8647    1963           4           175.0   \n",
      "...        ...       ...      ...     ...         ...             ...   \n",
      "192492  235492     28329      727    2063           1           683.0   \n",
      "192493  235493     18347     3620    1832           2           641.0   \n",
      "192494  235494     23875     8771    1997           5           358.0   \n",
      "192495  235496     24966     6718    2017           5          1691.0   \n",
      "192496  235497     34696     3899    2056           3          1790.0   \n",
      "\n",
      "        totalprice             listtime  \n",
      "0           1820.0  2008-01-24 06:43:29  \n",
      "1           1631.0  2008-03-05 12:25:29  \n",
      "2            364.0  2008-11-01 07:35:33  \n",
      "3            304.0  2008-05-24 01:18:37  \n",
      "4            700.0  2008-05-17 02:29:11  \n",
      "...            ...                  ...  \n",
      "192492       683.0  2008-08-25 01:16:59  \n",
      "192493      1282.0  2008-01-06 03:51:51  \n",
      "192494      1790.0  2008-06-20 01:50:24  \n",
      "192495      8455.0  2008-07-10 04:49:44  \n",
      "192496      5370.0  2008-08-18 07:40:04  \n",
      "\n",
      "[192497 rows x 8 columns]\n"
     ]
    }
   ],
   "source": [
    "table = 'listing'\n",
    "conv_df = pd.read_csv(f'{data_dir}/listings_pipe.txt', sep = '|', header=None, names=['listid','sellerid','eventid','dateid','numtickets','priceperticket', 'totalprice','listtime'])\n",
    "if not os.path.exists(f'{data_dir}/{table}/'):\n",
    "    os.mkdir(f'{data_dir}/{table}/')\n",
    "print(conv_df)\n",
    "conv_df.to_parquet(f'{data_dir}/{table}/{table}.parquet')"
   ]
  },
  {
   "cell_type": "code",
   "execution_count": 25,
   "metadata": {},
   "outputs": [
    {
     "name": "stdout",
     "output_type": "stream",
     "text": [
      "        salesid  listid  sellerid  buyerid  eventid  dateid  qtysold  \\\n",
      "0             1       1     36861    21191     7872    1875        4   \n",
      "1             2       4      8117    11498     4337    1983        2   \n",
      "2             3       5      1616    17433     8647    1983        2   \n",
      "3             4       5      1616    19715     8647    1986        1   \n",
      "4             5       6     47402    14115     8240    2069        2   \n",
      "...         ...     ...       ...      ...      ...     ...      ...   \n",
      "172451   172452  235476     15550    22417      793    2121        1   \n",
      "172452   172453  235479      1589     7872     7303    2068        2   \n",
      "172453   172454  235479      1589    42388     7303    2109        1   \n",
      "172454   172455  235482      1067      353     2667    2163        1   \n",
      "172455   172456  235494     23875    13049     8771    2012        1   \n",
      "\n",
      "        pricepaid  commission             saletime  \n",
      "0             728      109.20   2/18/2008 02:36:48  \n",
      "1              76       11.40    6/6/2008 05:00:16  \n",
      "2             350       52.50    6/6/2008 08:26:17  \n",
      "3             175       26.25    6/9/2008 08:38:52  \n",
      "4             154       23.10   8/31/2008 09:17:02  \n",
      "...           ...         ...                  ...  \n",
      "172451       1509      226.35  10/22/2008 02:27:22  \n",
      "172452       4468      670.20   8/30/2008 02:27:23  \n",
      "172453       2234      335.10  10/10/2008 02:27:24  \n",
      "172454       1138      170.70   12/3/2008 02:27:26  \n",
      "172455        358       53.70    7/5/2008 02:27:26  \n",
      "\n",
      "[172456 rows x 10 columns]\n"
     ]
    }
   ],
   "source": [
    "table = 'sales'\n",
    "conv_df = pd.read_csv(f'{data_dir}/sales_tab.txt', sep = '\\t', header=None, names=['salesid','listid','sellerid','buyerid','eventid','dateid', 'qtysold','pricepaid','commission','saletime'])\n",
    "if not os.path.exists(f'{data_dir}/{table}/'):\n",
    "    os.mkdir(f'{data_dir}/{table}/')\n",
    "print(conv_df)\n",
    "conv_df.to_parquet(f'{data_dir}/{table}/{table}.parquet')"
   ]
  },
  {
   "cell_type": "code",
   "execution_count": null,
   "metadata": {},
   "outputs": [],
   "source": []
  }
 ],
 "metadata": {
  "interpreter": {
   "hash": "b39560ee1d7e6475288c5e4f53181bf19750eb293d499535477c5e215c47e4f8"
  },
  "kernelspec": {
   "display_name": "Python 3.9.1 ('.env': venv)",
   "language": "python",
   "name": "python3"
  },
  "language_info": {
   "codemirror_mode": {
    "name": "ipython",
    "version": 3
   },
   "file_extension": ".py",
   "mimetype": "text/x-python",
   "name": "python",
   "nbconvert_exporter": "python",
   "pygments_lexer": "ipython3",
   "version": "3.9.1"
  },
  "orig_nbformat": 4
 },
 "nbformat": 4,
 "nbformat_minor": 2
}
